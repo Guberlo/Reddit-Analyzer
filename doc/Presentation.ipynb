{
 "cells": [
  {
   "cell_type": "markdown",
   "metadata": {
    "slideshow": {
     "slide_type": "slide"
    }
   },
   "source": [
    "# Let's get into "
   ]
  },
  {
   "cell_type": "markdown",
   "metadata": {
    "slideshow": {
     "slide_type": "fragment"
    }
   },
   "source": [
    "<img src=\"https://www.gelestatic.it/thimg/NTnDnRY33bExL8Hmmn2VnwjHDDs=/fit-in/960x540/https%3A//www.lastampa.it/image/contentid/policy%3A1.33596732%3A1561901170/570024ce-2fc3-11e9-9516-6327b7720fee_google_reddit_acquisizione-kllD-U11202209014162EGI-1024x576%40LaStampa.it.png%3Ff%3Ddetail_558%26h%3D720%26w%3D1280%26%24p%24f%24h%24w%3D5bc7233\" />"
   ]
  },
  {
   "cell_type": "markdown",
   "metadata": {
    "slideshow": {
     "slide_type": "slide"
    }
   },
   "source": [
    "# What is it?"
   ]
  },
  {
   "cell_type": "markdown",
   "metadata": {
    "slideshow": {
     "slide_type": "fragment"
    }
   },
   "source": [
    "Reddit is a social media based on social news media aggregation. As a Redditor, a reddit's user, you can create posts. The most important thing about posts is that they are organized into subject's clusters. Those are also called as subreddits.  "
   ]
  },
  {
   "cell_type": "markdown",
   "metadata": {
    "slideshow": {
     "slide_type": "subslide"
    }
   },
   "source": [
    "<img src=\"https://i.redd.it/9a7zda77s7z01.png\" width=1200 heigth=1000 align=\"center\"/>"
   ]
  },
  {
   "cell_type": "markdown",
   "metadata": {
    "slideshow": {
     "slide_type": "slide"
    }
   },
   "source": [
    "# What do those r/ things contain?"
   ]
  },
  {
   "cell_type": "markdown",
   "metadata": {
    "slideshow": {
     "slide_type": "fragment"
    }
   },
   "source": [
    "What a subreddit does is gather informations which concern itself.   \n",
    "Indeed, what it contains is actually defined in it's name. For example, if we are looking for games discussion/guides and so on, the first thing we'd be looking at is r/games."
   ]
  },
  {
   "cell_type": "markdown",
   "metadata": {
    "slideshow": {
     "slide_type": "subslide"
    }
   },
   "source": [
    "<img src=\"Images/games.png\"/>"
   ]
  },
  {
   "cell_type": "markdown",
   "metadata": {
    "slideshow": {
     "slide_type": "slide"
    }
   },
   "source": [
    "# Subreddits... how are they created?"
   ]
  },
  {
   "cell_type": "markdown",
   "metadata": {
    "slideshow": {
     "slide_type": "fragment"
    }
   },
   "source": [
    "Subreddits are not pre-created. Indeed, any user can create a subreddit and promote it. \n",
    "If a subreddit has some interesting contents users can upvote or downvote discussions and comments.\n",
    "Discussions with an high number of upvotes have the possibility to get on top of the subreddit page and, if the number of upvotes is very high, it can also be displayed in the home page of reddit. "
   ]
  },
  {
   "cell_type": "markdown",
   "metadata": {
    "slideshow": {
     "slide_type": "slide"
    }
   },
   "source": [
    "# Goal"
   ]
  },
  {
   "cell_type": "markdown",
   "metadata": {
    "slideshow": {
     "slide_type": "fragment"
    }
   },
   "source": [
    "After this little introduction on how Reddit works let's explain why are we even talking about that."
   ]
  },
  {
   "cell_type": "markdown",
   "metadata": {
    "slideshow": {
     "slide_type": "fragment"
    }
   },
   "source": [
    "A huge amount of information, thoughts and culture flows through reddit. \n",
    "We are going to explore, analyze and give some feedbacks in real time, based on what is happening in the redditor's world. "
   ]
  },
  {
   "cell_type": "markdown",
   "metadata": {
    "slideshow": {
     "slide_type": "slide"
    }
   },
   "source": [
    "# Requirements"
   ]
  },
  {
   "cell_type": "markdown",
   "metadata": {
    "slideshow": {
     "slide_type": "fragment"
    }
   },
   "source": [
    "<img src=\"Images/require.png\"/>"
   ]
  },
  {
   "cell_type": "markdown",
   "metadata": {
    "slideshow": {
     "slide_type": "fragment"
    }
   },
   "source": [
    "[KnowYourMeme](https://knowyourmeme.com/memes/we-require-more-minerals)"
   ]
  },
  {
   "cell_type": "markdown",
   "metadata": {
    "slideshow": {
     "slide_type": "subslide"
    }
   },
   "source": [
    "In order to accomplish our goal we need a few things:\n",
    "* **Data from reddit**\n",
    "* **A way to stream those data**\n",
    "* **A way to manipulate data in streaming**\n",
    "* **A way to FAST analyze our data**\n",
    "* **A way to provide those analytics to a end-user**\n"
   ]
  },
  {
   "cell_type": "markdown",
   "metadata": {
    "slideshow": {
     "slide_type": "subslide"
    }
   },
   "source": [
    "<img src=\"Images/requirements.png\" height=800 width=800/>"
   ]
  },
  {
   "cell_type": "markdown",
   "metadata": {
    "slideshow": {
     "slide_type": "slide"
    }
   },
   "source": [
    "# Let's build our pipeline"
   ]
  },
  {
   "cell_type": "markdown",
   "metadata": {
    "slideshow": {
     "slide_type": "fragment"
    }
   },
   "source": [
    "## Getting data from reddit\n",
    "In order to accomplish this step we are going to use a kafka connector made by [C0urante](https://github.com/C0urante).\n",
    "This connector uses the JRAW library, calling the streaming function for the desidered subreddit.\n",
    "It will collect every new submission and every new comment in the subreddit. "
   ]
  },
  {
   "cell_type": "markdown",
   "metadata": {
    "slideshow": {
     "slide_type": "fragment"
    }
   },
   "source": [
    "## To kafka\n",
    "The connector will stream the data in two different kafka topics: one for the posts and the other for the comments.\n",
    "This  will simplify and boost the process of analysis."
   ]
  },
  {
   "cell_type": "markdown",
   "metadata": {
    "slideshow": {
     "slide_type": "slide"
    }
   },
   "source": [
    "## Elaboration with Spark\n",
    "We will use Spark to clean and elaborate the data. It will consume kafka messages, elaborate them and then send those to elastic search.\n",
    "We are also using ML to predict whether a comment has the probabilty of being \"important\" or not."
   ]
  },
  {
   "cell_type": "markdown",
   "metadata": {
    "slideshow": {
     "slide_type": "fragment"
    }
   },
   "source": [
    "## Elaboration steps\n",
    "\n",
    "* **Fit our model with our training data**\n",
    "* **Make a spark rdd containing just the intresting field from kafka streamed data**\n",
    "* **Convert the unix epoch time to timestamp**\n",
    "* **Apply some NLP**\n",
    "* **Predict using the trained model**\n",
    "* **Dump to a JSON**\n",
    "* **Send to Elastic Search**"
   ]
  },
  {
   "cell_type": "markdown",
   "metadata": {
    "slideshow": {
     "slide_type": "slide"
    }
   },
   "source": [
    "## Analysis and Visualization \n",
    "Now that we have completed the process of elaboration we need a way to fast search and analyze the obtained data.\n",
    "This is where Elastic Search comes into play. This speed is guaranteed by its REST API. \n",
    "Last but not least, we use Kibana in order to visualize and implement a user-friendly analysis environment.\n",
    "Kibana retrieves and works with Elastic Search data."
   ]
  },
  {
   "cell_type": "markdown",
   "metadata": {
    "slideshow": {
     "slide_type": "slide"
    }
   },
   "source": [
    "# Micro-service infrastructure\n",
    "Each of the component represents a microservice. This helps managing and scaling our application if needed.\n",
    "Thus, each of this service will run in a docker container, making deployment and dealing with system dependencies much easier."
   ]
  },
  {
   "cell_type": "markdown",
   "metadata": {
    "slideshow": {
     "slide_type": "slide"
    }
   },
   "source": [
    "# Test if everything works"
   ]
  },
  {
   "cell_type": "markdown",
   "metadata": {
    "slideshow": {
     "slide_type": "fragment"
    }
   },
   "source": [
    "**DISCLAIMER: \n",
    "ANY DAMAGE CAUSED TO YOUR MACHINE ~~WILL PROBABLY BE DUE TO RUNNING THIS PROJECT~~ IS NOT MY FAULT AND I WILL NOT BE RESPONSIBLE.**"
   ]
  },
  {
   "cell_type": "markdown",
   "metadata": {
    "slideshow": {
     "slide_type": "subslide"
    }
   },
   "source": [
    "<img src=\"Images/coffin.png\" />"
   ]
  },
  {
   "cell_type": "markdown",
   "metadata": {
    "slideshow": {
     "slide_type": "slide"
    }
   },
   "source": [
    "# Running the project and sharing screen?"
   ]
  },
  {
   "cell_type": "markdown",
   "metadata": {
    "slideshow": {
     "slide_type": "fragment"
    }
   },
   "source": [
    "<img src=\"Images/nope.jpg\" />"
   ]
  },
  {
   "cell_type": "markdown",
   "metadata": {
    "slideshow": {
     "slide_type": "slide"
    }
   },
   "source": [
    "# Solution!"
   ]
  },
  {
   "cell_type": "markdown",
   "metadata": {
    "slideshow": {
     "slide_type": "fragment"
    }
   },
   "source": [
    "<img src=\"Images/cloud.jpg\" />"
   ]
  },
  {
   "cell_type": "markdown",
   "metadata": {
    "slideshow": {
     "slide_type": "fragment"
    }
   },
   "source": [
    "Since we are talking about scalability, easy deployment, trustability etc.\n",
    "\n",
    "**LET'S DEPLOY EVERYTHING ON THE MYSTHIC CLOUD!**"
   ]
  },
  {
   "cell_type": "markdown",
   "metadata": {
    "slideshow": {
     "slide_type": "slide"
    }
   },
   "source": [
    "# Cloud"
   ]
  },
  {
   "cell_type": "markdown",
   "metadata": {
    "slideshow": {
     "slide_type": "fragment"
    }
   },
   "source": [
    "We are going to use google as cloud provide. \n",
    "\n",
    "This is not the best way to implement this, since google offers many services to do this (For example Pub/Sub to distribute messages).\n",
    "\n",
    "However, those services can be quite expensive and won't show the logic behind each service."
   ]
  },
  {
   "cell_type": "markdown",
   "metadata": {
    "slideshow": {
     "slide_type": "fragment"
    }
   },
   "source": [
    "<img src=\"Images/gcloud.png\" height=220 width=220/>"
   ]
  },
  {
   "cell_type": "markdown",
   "metadata": {
    "slideshow": {
     "slide_type": "slide"
    }
   },
   "source": [
    "## Compute Engine"
   ]
  },
  {
   "cell_type": "markdown",
   "metadata": {
    "slideshow": {
     "slide_type": "fragment"
    }
   },
   "source": [
    "That said, we will just pick some machines from the endless pool that google offers.\n",
    "Each of this VM will run a service just as we saw before."
   ]
  },
  {
   "cell_type": "markdown",
   "metadata": {
    "slideshow": {
     "slide_type": "slide"
    }
   },
   "source": [
    "# Let's see if everything works now!"
   ]
  },
  {
   "cell_type": "markdown",
   "metadata": {
    "slideshow": {
     "slide_type": "subslide"
    }
   },
   "source": [
    "## Step 1\n",
    "\n",
    "Start zookeeper and Kafka server so that we can send messages here. We use **docker compose** to build both ZK and Kafka.\n",
    "\n"
   ]
  },
  {
   "cell_type": "markdown",
   "metadata": {
    "slideshow": {
     "slide_type": "subslide"
    }
   },
   "source": [
    "## Step 2\n",
    "\n",
    "Start the connector and stream data on Kafka. \n",
    "\n",
    "We are going to build a container starting from the confluent kafka base image, passing some environments variables to specify the bootstrap-server, the subreddit to look for posts and comments."
   ]
  },
  {
   "cell_type": "markdown",
   "metadata": {
    "slideshow": {
     "slide_type": "subslide"
    }
   },
   "source": [
    "## Step 3\n",
    "\n",
    "Start Elastic Search and Kibana so that they will be ready to receive cleaned data from Spark. Same as before, we use docker compose to build both images.\n"
   ]
  },
  {
   "cell_type": "markdown",
   "metadata": {
    "slideshow": {
     "slide_type": "subslide"
    }
   },
   "source": [
    "## Step 4\n",
    "\n",
    "Run python code with pyspark, make predictions, cleaning  and stream data to elastic search."
   ]
  },
  {
   "cell_type": "markdown",
   "metadata": {
    "slideshow": {
     "slide_type": "subslide"
    }
   },
   "source": [
    "## Step 5\n",
    "\n",
    "Visualize with Kibana!"
   ]
  },
  {
   "cell_type": "markdown",
   "metadata": {
    "slideshow": {
     "slide_type": "slide"
    }
   },
   "source": [
    "# Hope you enjoyed!"
   ]
  },
  {
   "cell_type": "markdown",
   "metadata": {
    "slideshow": {
     "slide_type": "fragment"
    }
   },
   "source": [
    "<img src=\"Images/folks.jpg\" />"
   ]
  }
 ],
 "metadata": {
  "celltoolbar": "Slideshow",
  "kernelspec": {
   "display_name": "Python 3",
   "language": "python",
   "name": "python3"
  },
  "language_info": {
   "codemirror_mode": {
    "name": "ipython",
    "version": 3
   },
   "file_extension": ".py",
   "mimetype": "text/x-python",
   "name": "python",
   "nbconvert_exporter": "python",
   "pygments_lexer": "ipython3",
   "version": "3.7.4"
  }
 },
 "nbformat": 4,
 "nbformat_minor": 2
}
